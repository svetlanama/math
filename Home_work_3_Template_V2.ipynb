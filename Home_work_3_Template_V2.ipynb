{
  "nbformat": 4,
  "nbformat_minor": 0,
  "metadata": {
    "colab": {
      "provenance": [],
      "include_colab_link": true
    },
    "kernelspec": {
      "name": "python3",
      "display_name": "Python 3"
    },
    "language_info": {
      "name": "python"
    }
  },
  "cells": [
    {
      "cell_type": "markdown",
      "metadata": {
        "id": "view-in-github",
        "colab_type": "text"
      },
      "source": [
        "<a href=\"https://colab.research.google.com/github/svetlanama/math/blob/main/Home_work_3_Template_V2.ipynb\" target=\"_parent\"><img src=\"https://colab.research.google.com/assets/colab-badge.svg\" alt=\"Open In Colab\"/></a>"
      ]
    },
    {
      "cell_type": "markdown",
      "source": [
        "\n",
        "\n",
        "Дано 4 точки: $M_0(0, 0, 0), M_1(1, \\frac{1}{3}, 0), M_2(0, 2, \\frac{1}{4}), M_3(\\frac{1}{2}, \\frac{1}{2}, 1)$.\n",
        "\n",
        "Також дано 3 вектори, які задають паралелепіпед із зазначеними точками:\n",
        "- $\\overline{a}=\\overline{M_0M_1}$\n",
        "- $\\overline{b}=\\overline{M_0M_2}$\n",
        "- $\\overline{c}=\\overline{M_0M_3}$\n",
        "\n",
        "Порахуй координати векторів через задані точки.  \n",
        "Порахуй об'єм, площу повної поверхні паралелепіпеда та кути між ребрами паралелепіпеда, координати решти вершин паралелепіпеда.\n",
        "\n"
      ],
      "metadata": {
        "id": "hcaEinFBN22V"
      }
    },
    {
      "cell_type": "markdown",
      "source": [
        "$\\overline{a} = ? = \\left (\\begin{array}{cc}\n",
        "?\\\\\n",
        "?\\\\\n",
        "?\n",
        "\\end{array}\\right)\n",
        "\\\\\n",
        "\\overline{b} = ? = \\left (\\begin{array}{cc}\n",
        "?\\\\\n",
        "?\\\\\n",
        "?\n",
        "\\end{array}\\right)\n",
        "\\\\\n",
        "\\overline{c} = ? = \\left (\\begin{array}{cc}\n",
        "?\\\\\n",
        "?\\\\\n",
        "?\n",
        "\\end{array}\\right)\n",
        "$"
      ],
      "metadata": {
        "id": "sktokwYqSqhu"
      }
    },
    {
      "cell_type": "markdown",
      "source": [
        "$\n",
        "V = ?\\\\\n",
        "S = ?\\\\\n",
        "\\angle(a, b) = ?\\\\\n",
        "\\angle(a, c) = ?\\\\\n",
        "\\angle(b, c) = ?\\\\\n",
        "M_4 = ?\\\\\n",
        "M_5 = ?\\\\\n",
        "M_6 = ?\\\\\n",
        "M_7 = ?\n",
        "$"
      ],
      "metadata": {
        "id": "SVtaqixdAuJP"
      }
    },
    {
      "cell_type": "markdown",
      "source": [
        "$$\n",
        "\\textbf{1. Координати векторів}\n",
        "$$\n",
        "\n",
        "---\n",
        " $$\n",
        "M_0(0, 0, 0), \\quad\n",
        "M_1\\left(1, \\frac{1}{3}, 0\\right), \\quad\n",
        "M_2\\left(0, 2, \\frac{1}{4}\\right), \\quad\n",
        "M_3\\left(\\frac{1}{2}, \\frac{1}{2}, 1\\right)\n",
        "$$\n",
        "\n",
        "---\n",
        "\n",
        "$$\n",
        "\\vec{a} = \\overrightarrow{M_0M_1} =\n",
        "\\left(1 - 0,\\; \\frac{1}{3} - 0,\\; 0 - 0 \\right)\n",
        "= \\left(1,\\; \\frac{1}{3},\\; 0\\right)\n",
        "$$\n",
        "\n",
        "$$\n",
        "\\vec{b} = \\overrightarrow{M_0M_2} =\n",
        "\\left(0 - 0,\\; 2 - 0,\\; \\frac{1}{4} - 0\\right)\n",
        "= \\left(0,\\; 2,\\; \\frac{1}{4}\\right)\n",
        "$$\n",
        "\n",
        "$$\n",
        "\\vec{c} = \\overrightarrow{M_0M_3} =\n",
        "\\left(\\frac{1}{2} - 0,\\; \\frac{1}{2} - 0,\\; 1 - 0 \\right)\n",
        "= \\left(\\frac{1}{2},\\; \\frac{1}{2},\\; 1\\right)\n",
        "$$\n",
        "\n"
      ],
      "metadata": {
        "id": "j-BftieoCHTu"
      }
    },
    {
      "cell_type": "markdown",
      "source": [
        "2. Об'єм, площу повної поверхні паралелепіпеда та кути між ребрами паралелепіпеда, координати решти вершин паралелепіпеда"
      ],
      "metadata": {
        "id": "N4dHDOntpxgY"
      }
    },
    {
      "cell_type": "markdown",
      "source": [
        "$$\n",
        "V = \\left| \\vec{a} \\cdot (\\vec{b} \\times \\vec{c}) \\right| = 1.9167\n",
        "$$\n",
        "\n",
        "$$\n",
        "S = 2 \\left( |\\vec{a} \\times \\vec{b}| + |\\vec{a} \\times \\vec{c}| + |\\vec{b} \\times \\vec{c}| \\right) = 10.5030\n",
        "$$\n",
        "\n",
        "- Кут між $\\vec{a}$ і $\\vec{b}$:\n",
        "$$\n",
        "\\cos \\angle(a,b) = \\frac{\\vec{a} \\cdot \\vec{b}}{|\\vec{a}|\\,|\\vec{b}|} = 71.71^\\circ\n",
        "$$\n",
        "\n",
        "- Кут між $\\vec{a}$ і $\\vec{c}$:\n",
        "$$\n",
        "\\cos \\angle(a,c) = \\frac{\\vec{a} \\cdot \\vec{c}}{|\\vec{a}|\\,|\\vec{c}|} = 58.91^\\circ\n",
        "$$\n",
        "\n",
        "- Кут між $\\vec{b}$ і $\\vec{c}$:\n",
        "$$\n",
        "\\cos \\angle(b,c) = \\frac{\\vec{b} \\cdot \\vec{c}}{|\\vec{b}|\\,|\\vec{c}|} = 59.58^\\circ\n",
        "$$\n",
        "\n"
      ],
      "metadata": {
        "id": "_W2GIkq1n7k8"
      }
    },
    {
      "cell_type": "markdown",
      "source": [
        "3. Координати решти вершин паралелепіпеда."
      ],
      "metadata": {
        "id": "IuPtswgUrChS"
      }
    },
    {
      "cell_type": "markdown",
      "source": [
        "\n",
        "$$\n",
        "M_4 = M_1 + \\vec{b} = (1, \\frac{7}{3}, \\frac{1}{4})\n",
        "= (1, 2.3333, 0.25)\n",
        "$$\n",
        "\n",
        "$$\n",
        "M_5 = M_1 + \\vec{c} = \\left( \\frac{3}{2}, \\frac{5}{6}, 1 \\right)\n",
        "= (1.5, 0.8333, 1)\n",
        "$$\n",
        "\n",
        "$$\n",
        "M_6 = M_2 + \\vec{c} = \\left( \\frac{1}{2}, \\frac{5}{2}, \\frac{5}{4} \\right)\n",
        "= (0.5, 2.5, 1.25)\n",
        "$$\n",
        "\n",
        "$$\n",
        "M_7 = M_1 + \\vec{b} + \\vec{c} =\n",
        "\\left( \\frac{3}{2}, \\frac{17}{6}, \\frac{5}{4} \\right)\n",
        "= (1.5, 2.8333, 1.25)\n",
        "$$"
      ],
      "metadata": {
        "id": "I0oIz0DjrHj7"
      }
    },
    {
      "cell_type": "code",
      "source": [],
      "metadata": {
        "id": "B7FNLM98qvll"
      },
      "execution_count": null,
      "outputs": []
    }
  ]
}