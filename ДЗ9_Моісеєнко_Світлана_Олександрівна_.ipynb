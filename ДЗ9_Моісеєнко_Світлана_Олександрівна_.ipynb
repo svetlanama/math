{
  "nbformat": 4,
  "nbformat_minor": 0,
  "metadata": {
    "colab": {
      "provenance": [],
      "authorship_tag": "ABX9TyPqUj9AJzEguoyAUgfawEmu",
      "include_colab_link": true
    },
    "kernelspec": {
      "name": "python3",
      "display_name": "Python 3"
    },
    "language_info": {
      "name": "python"
    }
  },
  "cells": [
    {
      "cell_type": "markdown",
      "metadata": {
        "id": "view-in-github",
        "colab_type": "text"
      },
      "source": [
        "<a href=\"https://colab.research.google.com/github/svetlanama/math/blob/main/%D0%94%D0%979_%D0%9C%D0%BE%D1%96%D1%81%D0%B5%D1%94%D0%BD%D0%BA%D0%BE_%D0%A1%D0%B2%D1%96%D1%82%D0%BB%D0%B0%D0%BD%D0%B0_%D0%9E%D0%BB%D0%B5%D0%BA%D1%81%D0%B0%D0%BD%D0%B4%D1%80%D1%96%D0%B2%D0%BD%D0%B0_.ipynb\" target=\"_parent\"><img src=\"https://colab.research.google.com/assets/colab-badge.svg\" alt=\"Open In Colab\"/></a>"
      ]
    },
    {
      "cell_type": "code",
      "execution_count": 1,
      "metadata": {
        "colab": {
          "base_uri": "https://localhost:8080/"
        },
        "id": "iM6rqpmXI1dY",
        "outputId": "5a4667bf-80a2-4591-870b-744abce4bcc2"
      },
      "outputs": [
        {
          "output_type": "stream",
          "name": "stdout",
          "text": [
            "Оптимальний план (кількість робіт):\n",
            "  Сайти (x1):            0\n",
            "  Інтернет-магазини (x2): 8\n",
            "  ERP-інтеграції (x3):    0\n",
            "\n",
            "Сумарний місячний дохід (тис. $): 72.0\n",
            "\n",
            "Використання ресурсів (год):\n",
            "  Дизайнери:   48 / 320\n",
            "  Розробники:  192 / 192\n",
            "  Тестувальник:144 / 180\n"
          ]
        }
      ],
      "source": [
        "\n",
        "import numpy as np\n",
        "from scipy.optimize import linprog\n",
        "\n",
        "# Змінні:\n",
        "# x1 = кількість сайтів\n",
        "# x2 = кількість інтернет-магазинів\n",
        "# x3 = кількість ERP-інтеграцій\n",
        "\n",
        "# ---- Цільова функція: max Z = 2*x1 + 9*x2 + 6*x3 (тис. $)\n",
        "# linprog мінімізує, тому мінімізуємо -Z\n",
        "c = np.array([-2, -9, -6], dtype=float)\n",
        "\n",
        "# ---- Обмеження A_ub @ x <= b_ub\n",
        "# Дизайнери:   12*x1 +  6*x2 +  2*x3 <= 320\n",
        "# Розробники:  12*x1 + 24*x2 + 18*x3 <= 192\n",
        "# Тестувальн.: 12*x1 + 18*x2 + 12*x3 <= 180\n",
        "A_ub = np.array([\n",
        "    [12,  6,  2],\n",
        "    [12, 24, 18],\n",
        "    [12, 18, 12]\n",
        "], dtype=float)\n",
        "b_ub = np.array([320, 192, 180], dtype=float)\n",
        "\n",
        "# ---- Межі невід’ємності\n",
        "bounds = [(0, None), (0, None), (0, None)]\n",
        "\n",
        "# ---- Розв'язання (HiGHS)\n",
        "res = linprog(c, A_ub=A_ub, b_ub=b_ub, bounds=bounds, method=\"highs\")\n",
        "\n",
        "if not res.success:\n",
        "    raise RuntimeError(res.message)\n",
        "\n",
        "x1, x2, x3 = res.x\n",
        "revenue_thousands = -res.fun\n",
        "\n",
        "print(\"Оптимальний план (кількість робіт):\")\n",
        "print(f\"  Сайти (x1):            {x1:.6g}\")\n",
        "print(f\"  Інтернет-магазини (x2): {x2:.6g}\")\n",
        "print(f\"  ERP-інтеграції (x3):    {x3:.6g}\")\n",
        "\n",
        "print(\"\\nСумарний місячний дохід (тис. $):\", revenue_thousands)\n",
        "\n",
        "# Контроль використання ресурсів\n",
        "designers = 12*x1 +  6*x2 +  2*x3\n",
        "devs      = 12*x1 + 24*x2 + 18*x3\n",
        "testers   = 12*x1 + 18*x2 + 12*x3\n",
        "\n",
        "print(\"\\nВикористання ресурсів (год):\")\n",
        "print(f\"  Дизайнери:   {designers:.6g} / 320\")\n",
        "print(f\"  Розробники:  {devs:.6g} / 192\")\n",
        "print(f\"  Тестувальник:{testers:.6g} / 180\")\n"
      ]
    }
  ]
}