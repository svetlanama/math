{
  "nbformat": 4,
  "nbformat_minor": 0,
  "metadata": {
    "colab": {
      "provenance": [],
      "collapsed_sections": [
        "CChksUmMAbHT"
      ],
      "include_colab_link": true
    },
    "kernelspec": {
      "name": "python3",
      "display_name": "Python 3"
    },
    "language_info": {
      "name": "python"
    }
  },
  "cells": [
    {
      "cell_type": "markdown",
      "metadata": {
        "id": "view-in-github",
        "colab_type": "text"
      },
      "source": [
        "<a href=\"https://colab.research.google.com/github/svetlanama/math/blob/main/HW7_Moiseyenko_Svitlana.ipynb\" target=\"_parent\"><img src=\"https://colab.research.google.com/assets/colab-badge.svg\" alt=\"Open In Colab\"/></a>"
      ]
    },
    {
      "cell_type": "markdown",
      "source": [
        "## Нагадування по Markdown"
      ],
      "metadata": {
        "id": "CChksUmMAbHT"
      }
    },
    {
      "cell_type": "markdown",
      "source": [
        "Надаємо невелике нагадування записів в\n",
        "[Markdown](https://colab.research.google.com/notebooks/markdown_guide.ipynb) (LaTeX):\n",
        "\n",
        "Markdown | Preview\n",
        "--- | ---\n",
        "`**bold text**` | **bold text**\n",
        " \\\\$\\frac{x}{y}\\\\$ | $\\frac{x}{y}$\n",
        " \\\\$p^{x}_{y}\\\\$ | $p^{x}_{y}$\n",
        "\\\\$x \\cdot y\\\\$ | $x \\cdot y$\n",
        "\\\\$\\sqrt{x}\\\\$ | $\\sqrt{x}$\n",
        "\\\\$\\pi\\\\$ | $\\pi$\n",
        "\\\\$\\approx\\\\$ | $\\approx$\n",
        "\n",
        "І ще декілька прикладів:\n",
        "\n",
        "```markdown\n",
        "$y=x^2$\n",
        "\n",
        "$e^{i\\pi} + 1 = 0$\n",
        "\n",
        "$e^x=\\sum_{i=0}^\\infty \\frac{1}{i!}x^i$\n",
        "\n",
        "$\\frac{n!}{k!(n-k)!} = {n \\choose k}$\n",
        "\n",
        "$A_{m,n} =\n",
        " \\begin{pmatrix}\n",
        "  a_{1,1} & a_{1,2} & \\cdots & a_{1,n} \\\\\n",
        "  a_{2,1} & a_{2,2} & \\cdots & a_{2,n} \\\\\n",
        "  \\vdots  & \\vdots  & \\ddots & \\vdots  \\\\\n",
        "  a_{m,1} & a_{m,2} & \\cdots & a_{m,n}\n",
        " \\end{pmatrix}$\n",
        "```\n",
        "\n",
        "$y=x^2$\n",
        "\n",
        "$e^{i\\pi} + 1 = 0$\n",
        "\n",
        "$e^x=\\sum_{i=0}^\\infty \\frac{1}{i!}x^i$\n",
        "\n",
        "$\\frac{n!}{k!(n-k)!} = {n \\choose k}$\n",
        "\n",
        "$A_{m,n} =\n",
        " \\begin{pmatrix}\n",
        "  a_{1,1} & a_{1,2} & \\cdots & a_{1,n} \\\\\n",
        "  a_{2,1} & a_{2,2} & \\cdots & a_{2,n} \\\\\n",
        "  \\vdots  & \\vdots  & \\ddots & \\vdots  \\\\\n",
        "  a_{m,1} & a_{m,2} & \\cdots & a_{m,n}\n",
        " \\end{pmatrix}$\n",
        "\n",
        " ---"
      ],
      "metadata": {
        "id": "ufhW5oZEzsvI"
      }
    },
    {
      "cell_type": "markdown",
      "source": [
        "## Завдання 1\n",
        "\n",
        "В партії з 50 деталей 5 нестандартних. Визнач ймовірність того, що серед обраних навмання для перевірки шести деталей дві виявляться нестандартними. Розв'яжи аналітично.\n",
        "\n",
        "Примітка: в даній задачі не потрібно рахувати конкретне число.\n",
        "\n",
        "---\n",
        "Розв'язання:\n",
        "\n"
      ],
      "metadata": {
        "id": "xXSaXssaSwlH"
      }
    },
    {
      "cell_type": "markdown",
      "source": [
        "\n",
        "$$\n",
        "\\text{Ймовірність визначається формулою гіпергеометричного розподілу:}\n",
        "$$\n",
        "\n",
        "\n",
        "\n",
        "\n",
        "$$\n",
        "P(X = k) = \\frac{\\binom{M}{k} \\cdot \\binom{N-M}{n-k}}{\\binom{N}{n}}\n",
        "$$\n",
        "\n",
        "\n",
        "\n",
        "$$\n",
        "N = 50,\\; K = 5,\\; n = 6,\\; x = 2\n",
        "$$\n",
        "\n",
        "$$\n",
        "P(X=2) = \\frac{\\binom{5}{2}\\,\\binom{45}{4}}{\\binom{50}{6}}\n",
        "$$\n",
        "\n",
        "$$\n",
        "P(X=2) = \\frac{\\tfrac{5!}{2!\\,3!}\\cdot\\tfrac{45!}{4!\\,41!}}{\\tfrac{50!}{6!\\,44!}}\n",
        "$$\n",
        "\n"
      ],
      "metadata": {
        "id": "wkYWOMPjJ8B0"
      }
    },
    {
      "cell_type": "markdown",
      "source": [
        "## Завдання 2\n",
        "\n",
        "В тирі стрілець проводить 7 пострілів по мішені з ймовірністю влучання кожного 0.8. Яка ймовірність того, що буде не менше за 5 влучань? Розв'яжи аналітично.\n",
        "\n",
        "---\n",
        "Розв'язання:"
      ],
      "metadata": {
        "id": "5Cw_lCtQwZwr"
      }
    },
    {
      "cell_type": "markdown",
      "source": [
        "$$\n",
        "\\textbf{Умова:} \\quad\n",
        "\\text{Стрілець робить } n=7 \\text{ пострілів, ймовірність влучання } p=0.8.\n",
        "$$\n",
        "\n",
        "$$\n",
        "\\text{Випадкова величина } X \\sim Bin(n=7, p=0.8),\n",
        "\\quad X = \\text{кількість влучань.}\n",
        "$$\n",
        "\n",
        "$$\n",
        "\\textbf{Потрібно знайти: }\n",
        "P(X \\geq 5) = P(X=5) + P(X=6) + P(X=7).\n",
        "$$\n",
        "\n",
        "$$\n",
        "\\textbf{Формула біноміального розподілу: }\n",
        "P(X=k) = \\binom{n}{k} p^k (1-p)^{n-k}, \\quad k=0,1,\\dots,n.\n",
        "$$\n",
        "\n",
        "$$\n",
        "P(X=5) = \\binom{7}{5} (0.8)^5 (0.2)^2\n",
        "$$\n",
        "\n",
        "$$\n",
        "P(X=6) = \\binom{7}{6} (0.8)^6 (0.2)^1\n",
        "$$\n",
        "\n",
        "$$\n",
        "P(X=7) = \\binom{7}{7} (0.8)^7 (0.2)^0\n",
        "$$\n",
        "\n",
        "$$\n",
        "\\Rightarrow\\\n",
        "P(X \\geq 5)\n",
        "= \\binom{7}{5}(0.8)^5(0.2)^2\n",
        "+ \\binom{7}{6}(0.8)^6(0.2)\n",
        "+ \\binom{7}{7}(0.8)^7\n",
        "$$\n",
        "\n",
        "$$\n",
        "= 21 \\cdot (0.8)^5 \\cdot (0.2)^2\n",
        "+ 7 \\cdot (0.8)^6 \\cdot (0.2)\n",
        "+ 1 \\cdot (0.8)^7\n",
        "$$\n",
        "\n",
        "$$\n",
        "= 21 \\cdot 0.32768 \\cdot 0.04\n",
        "+ 7 \\cdot 0.262144 \\cdot 0.2\n",
        "+ 0.2097152\n",
        "$$\n",
        "\n",
        "$$\n",
        "= 0.27525 + 0.36600 + 0.20972 \\approx 0.851.\n",
        "$$\n",
        "\n",
        "$$\n",
        "\\textbf{Відповідь: } \\quad P(X \\geq 5) \\approx 0.851.\n",
        "$$\n"
      ],
      "metadata": {
        "id": "NOw7H0f1k3zh"
      }
    },
    {
      "cell_type": "markdown",
      "source": [
        "## Завдання 3\n",
        "\n",
        "Підкидають три гральні кубики. Що ймовірніше: отримати в сумі очок, що випали, 11 або 12?  \n",
        "Розв'яжи програмно, згенерувавши всі можливі комбінації.\n",
        "\n",
        "---\n",
        "Розв'язання:"
      ],
      "metadata": {
        "id": "SL119N5bwqxc"
      }
    },
    {
      "cell_type": "code",
      "source": [
        "import itertools\n",
        "\n",
        "# Генеруємо всі комбінації трьох кубиків\n",
        "outcomes = list(itertools.product(range(1, 7), repeat=3))\n",
        "total = len(outcomes)\n",
        "\n",
        "# Фільтрація для сум 11 і 12\n",
        "outcomes_11 = [o for o in outcomes if sum(o) == 11]\n",
        "outcomes_12 = [o for o in outcomes if sum(o) == 12]\n",
        "\n",
        "# Вивід усіх комбінацій для 11\n",
        "print(\"Combinations for sum = 11:\")\n",
        "for o in outcomes_11:\n",
        "    print(o)\n",
        "\n",
        "# Вивід усіх комбінацій для 12\n",
        "print(\"\\nCombinations for sum = 12:\")\n",
        "for o in outcomes_12:\n",
        "    print(o)\n",
        "\n",
        "# Підсумки\n",
        "print(\"\\nSummary:\")\n",
        "print(f\"Total outcomes: {total}\")\n",
        "print(f\"Ways to get 11: {len(outcomes_11)} -> P(11) = {len(outcomes_11)}/{total} = {len(outcomes_11)/total:.6f}\")\n",
        "print(f\"Ways to get 12: {len(outcomes_12)} -> P(12) = {len(outcomes_12)}/{total} = {len(outcomes_12)/total:.6f}\")\n"
      ],
      "metadata": {
        "id": "xkvYYtY3wZAR",
        "colab": {
          "base_uri": "https://localhost:8080/"
        },
        "outputId": "d5f96fa6-bcb1-431f-c70f-57bfd7b4fbee"
      },
      "execution_count": null,
      "outputs": [
        {
          "output_type": "stream",
          "name": "stdout",
          "text": [
            "Combinations for sum = 11:\n",
            "(1, 4, 6)\n",
            "(1, 5, 5)\n",
            "(1, 6, 4)\n",
            "(2, 3, 6)\n",
            "(2, 4, 5)\n",
            "(2, 5, 4)\n",
            "(2, 6, 3)\n",
            "(3, 2, 6)\n",
            "(3, 3, 5)\n",
            "(3, 4, 4)\n",
            "(3, 5, 3)\n",
            "(3, 6, 2)\n",
            "(4, 1, 6)\n",
            "(4, 2, 5)\n",
            "(4, 3, 4)\n",
            "(4, 4, 3)\n",
            "(4, 5, 2)\n",
            "(4, 6, 1)\n",
            "(5, 1, 5)\n",
            "(5, 2, 4)\n",
            "(5, 3, 3)\n",
            "(5, 4, 2)\n",
            "(5, 5, 1)\n",
            "(6, 1, 4)\n",
            "(6, 2, 3)\n",
            "(6, 3, 2)\n",
            "(6, 4, 1)\n",
            "\n",
            "Combinations for sum = 12:\n",
            "(1, 5, 6)\n",
            "(1, 6, 5)\n",
            "(2, 4, 6)\n",
            "(2, 5, 5)\n",
            "(2, 6, 4)\n",
            "(3, 3, 6)\n",
            "(3, 4, 5)\n",
            "(3, 5, 4)\n",
            "(3, 6, 3)\n",
            "(4, 2, 6)\n",
            "(4, 3, 5)\n",
            "(4, 4, 4)\n",
            "(4, 5, 3)\n",
            "(4, 6, 2)\n",
            "(5, 1, 6)\n",
            "(5, 2, 5)\n",
            "(5, 3, 4)\n",
            "(5, 4, 3)\n",
            "(5, 5, 2)\n",
            "(5, 6, 1)\n",
            "(6, 1, 5)\n",
            "(6, 2, 4)\n",
            "(6, 3, 3)\n",
            "(6, 4, 2)\n",
            "(6, 5, 1)\n",
            "\n",
            "Summary:\n",
            "Total outcomes: 216\n",
            "Ways to get 11: 27 -> P(11) = 27/216 = 0.125000\n",
            "Ways to get 12: 25 -> P(12) = 25/216 = 0.115741\n"
          ]
        }
      ]
    },
    {
      "cell_type": "markdown",
      "source": [
        "## Завдання 4\n",
        "\n",
        "Схема електричного ланцюга наведена на рисунку. Через\n",
        "ділянку схеми, що вийшла з ладу, струм не проходить. Нехай подія\n",
        "$A_i$ – вихід з ладу елемента $i$ , $i = \\overline{1,6}$\n",
        ". Вирази події $A$ й $\\overline{A}$\n",
        "через події $A_i$, якщо $A$ – вихід з ладу всієї схеми. Розв'яжи аналітично.\n",
        "\n",
        "Примітка: виразити необхідно через події, а не їх ймовірності.\n",
        "\n"
      ],
      "metadata": {
        "id": "lxBShyhaBZO_"
      }
    },
    {
      "cell_type": "markdown",
      "source": [
        "![image.png](data:image/png;base64,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)"
      ],
      "metadata": {
        "id": "vWJXVmWCBZG5"
      }
    },
    {
      "cell_type": "markdown",
      "source": [
        "---\n",
        "Розв'язання:"
      ],
      "metadata": {
        "id": "lPwmT837BY6V"
      }
    },
    {
      "cell_type": "markdown",
      "source": [
        "$$\n",
        "\\textbf{Аналіз схеми:}\\quad\n",
        "(1 \\parallel 2)\\ \\text{— серійно —}\\ \\big((3 \\text{ посл. } 4)\\ \\parallel\\ 5\\big)\\ \\text{— серійно —}\\ 6.\n",
        "$$\n",
        "\n",
        "$$\n",
        "\\text{Позначення: } A_i \\text{ — відмова (вихід з ладу) елемента } i,\\quad\n",
        "\\overline{A_i} \\text{ — працездатність елемента } i.\n",
        "$$\n",
        "\n",
        "$$\n",
        "\\textbf{Умова працездатності усієї схеми } \\overline{A}:\n",
        "$$\n",
        "\n",
        "$$\n",
        "\\text{(i) Перший блок }(1\\parallel 2)\\text{ працює, якщо працює хоча б один: }\n",
        "\\overline{A_{(1\\parallel 2)}}=\\overline{A_1}\\ \\cup\\ \\overline{A_2}.\n",
        "$$\n",
        "\n",
        "$$\n",
        "\\text{(ii) Верхня гілка }(3\\text{ посл. }4)\\text{ працює, якщо працюють обидва: }\n",
        "\\overline{A_{(3\\text{ посл. }4)}}=\\overline{A_3}\\cap \\overline{A_4}.\n",
        "$$\n",
        "\n",
        "$$\n",
        "\\text{(iii) Другий блок } \\big((3\\text{ посл. }4)\\parallel 5\\big)\\text{ працює, якщо працює }\n",
        "(3\\text{ посл. }4)\\ \\text{або}\\ 5:\n",
        "$$\n",
        "\n",
        "$$\n",
        "\\overline{A_{((3\\text{ посл. }4)\\parallel 5)}}=\n",
        "\\overline{A_{(3\\text{ посл. }4)}}\\ \\cup\\ \\overline{A_5}\n",
        "=(\\overline{A_3}\\cap \\overline{A_4})\\ \\cup\\ \\overline{A_5}.\n",
        "$$\n",
        "\n",
        "$$\n",
        "\\text{(iv) Третій блок }6\\text{ працює, якщо }\\overline{A_6}.\n",
        "$$\n",
        "\n",
        "$$\n",
        "\\text{Оскільки три блоки з’єднані послідовно, схема працює тоді й тільки тоді, коли працюють усі блоки:}\n",
        "$$\n",
        "\n",
        "$$\n",
        "\\boxed{\\\n",
        "\\overline{A}=(\\overline{A_1}\\cup \\overline{A_2})\\ \\cap\\ \\big((\\overline{A_3}\\cap \\overline{A_4})\\ \\cup\\ \\overline{A_5}\\big)\\ \\cap\\ \\overline{A_6}\\ }.\n",
        "$$\n",
        "\n",
        "$$\n",
        "\\textbf{Подія відмови всієї схеми } A \\text{ (за означенням) є доповнення до } \\overline{A}:\n",
        "\\quad A=\\overline{\\ \\overline{A}\\ }.\n",
        "$$\n",
        "\n",
        "$$\n",
        "\\text{Застосуємо закон де Моргана для перетину трьох множин: }\n",
        "\\overline{X\\cap Y\\cap Z}=\\overline{X}\\ \\cup\\ \\overline{Y}\\ \\cup\\ \\overline{Z}.\n",
        "$$\n",
        "\n",
        "$$\n",
        "A=\\overline{\\overline{A_1}\\cup \\overline{A_2}}\\ \\ \\cup\\ \\\n",
        "\\overline{(\\overline{A_3}\\cap \\overline{A_4})\\cup \\overline{A_5}}\\ \\ \\cup\\ \\ \\overline{\\overline{A_6}}.\n",
        "$$\n",
        "\n",
        "$$\n",
        "\\text{Розкриваємо доповнення ще раз (де Морган для об’єднання, і подвійне заперечення):}\n",
        "$$\n",
        "\n",
        "$$\n",
        "\\overline{\\overline{A_1}\\cup \\overline{A_2}}=A_1\\cap A_2,\\qquad\n",
        "\\overline{(\\overline{A_3}\\cap \\overline{A_4})\\cup \\overline{A_5}}\n",
        "= \\overline{\\overline{A_3}\\cap \\overline{A_4}}\\ \\cap\\ \\overline{\\overline{A_5}}\n",
        "= (A_3\\cup A_4)\\ \\cap\\ A_5,\\qquad\n",
        "\\overline{\\overline{A_6}}=A_6.\n",
        "$$\n",
        "\n",
        "$$\n",
        "\\boxed{\\\n",
        "A=(A_1\\cap A_2)\\ \\cup\\ \\big((A_3\\cup A_4)\\cap A_5\\big)\\ \\cup\\ A_6\\ }.\n",
        "$$\n",
        "\n",
        "$$\n",
        "\\textbf{Інтерпретація:}\\\n",
        "\\text{схема вийде з ладу, якщо (хоча б одна з умов): }\n",
        "\\begin{cases}\n",
        "\\text{(1) відмовили }1\\text{ і }2\\ \\text{одночасно (перший блок), або}\\\\\n",
        "\\text{(2) відмовив }5\\ \\text{і принаймні один із }3\\text{ або }4\\ \\text{(другий блок), або}\\\\\n",
        "\\text{(3) відмовив }6.\n",
        "\\end{cases}\n",
        "$$\n"
      ],
      "metadata": {
        "id": "OBMc5fL1oJMo"
      }
    },
    {
      "cell_type": "markdown",
      "source": [
        "## Завдання 5\n",
        "\n",
        "На площині накреслені дві концентричні окружності (мають спільний центр),\n",
        "радіуси яких 5 і 10 см відповідно. Знайди ймовірність того, що точка, кинута навмання у велике коло, потрапить також у кільце, утворене побудованими окружностями.\n",
        "\n",
        "Розв'яжи аналітично.\n",
        "\n",
        "---\n",
        "Розв'язання:"
      ],
      "metadata": {
        "id": "qBhWCJHsOyFu"
      }
    },
    {
      "cell_type": "markdown",
      "source": [
        "$$\n",
        "\\textbf{Нехай } R=10\\ \\text{см — радіус великого кола,}\\quad r=5\\ \\text{см — радіус малого кола.}\n",
        "$$\n",
        "\n",
        "$$\n",
        "\\text{Ймовірність попадання у кільце} \\;=\\;\n",
        "\\frac{\\text{площа кільця}}{\\text{площа великого кола}}.\n",
        "$$\n",
        "\n",
        "$$\n",
        "S_{\\text{вел}} = \\pi R^2,\n",
        "\\qquad\n",
        "S_{\\text{кільця}} = \\pi R^2 - \\pi r^2 = \\pi\\,(R^2-r^2).\n",
        "$$\n",
        "\n",
        "$$\n",
        "P = \\frac{\\pi(R^2-r^2)}{\\pi R^2}\n",
        "= 1 - \\frac{r^2}{R^2}.\n",
        "$$\n",
        "\n",
        "$$\n",
        "P = 1 - \\frac{5^2}{10^2}\n",
        "= 1 - \\frac{25}{100}\n",
        "= \\frac{3}{4}\n",
        "= 0.75.\n",
        "$$\n",
        "\n",
        "$$\n",
        "\\boxed{P=\\tfrac{3}{4}}\n",
        "$$\n"
      ],
      "metadata": {
        "id": "dp82fez5onjb"
      }
    },
    {
      "cell_type": "markdown",
      "source": [
        "## Завдання 6\n",
        "Урна містить одну кулю, про яку відомо, що вона або біла, або чорна з однаковими ймовірностями. В урну кладуть білу кулю і потім навмання виймають одну кулю. Вона виявилася білою. Яка ймовірність того, що куля, яка залишилася, є білою? Розв'яжи аналітично  \n",
        "\n",
        "---\n",
        "Розв'язання:"
      ],
      "metadata": {
        "id": "5fEt2pndPj66"
      }
    },
    {
      "cell_type": "markdown",
      "source": [
        "$$\n",
        "\\textbf{Умова:}\\quad\n",
        "\\text{В урні спочатку є одна куля: біла (B) або чорна (C) з рівною ймовірністю } \\tfrac{1}{2}.\n",
        "$$\n",
        "\n",
        "$$\n",
        "\\text{Додаємо одну білу кулю. Тоді можливі випадки:}\n",
        "$$\n",
        "\n",
        "1. \\; \\text{Спочатку була біла (ймовірність } \\tfrac{1}{2}\\text{): усього дві білі кулі.} \\\\\n",
        "2. \\; \\text{Спочатку була чорна (ймовірність } \\tfrac{1}{2}\\text{): усього одна чорна і одна біла.}\n",
        "\n",
        "$$\n",
        "\\text{Після цього витягуємо одну кулю і вона виявилася білою.}\n",
        "$$\n",
        "\n",
        "---\n",
        "\n",
        "$$\n",
        "\\textbf{Введемо події: }\n",
        "B_0 = \\{\\text{початкова куля біла}\\}, \\quad\n",
        "C_0 = \\{\\text{початкова куля чорна}\\}, \\quad\n",
        "W = \\{\\text{витягнута біла}\\}.\n",
        "$$\n",
        "\n",
        "$$\n",
        "P(B_0)=P(C_0)=\\tfrac{1}{2}.\n",
        "$$\n",
        "\n",
        "---\n",
        "\n",
        "$$\n",
        "P(W|B_0) = 1 \\quad (\\text{бо обидві кулі білі}).\n",
        "$$\n",
        "\n",
        "$$\n",
        "P(W|C_0) = \\tfrac{1}{2} \\quad (\\text{бо біла і чорна з однаковим шансом}).\n",
        "$$\n",
        "\n",
        "$$\n",
        "P(W) = P(W|B_0)P(B_0) + P(W|C_0)P(C_0)\n",
        "= 1\\cdot\\tfrac{1}{2} + \\tfrac{1}{2}\\cdot\\tfrac{1}{2}\n",
        "= \\tfrac{3}{4}.\n",
        "$$\n",
        "\n",
        "---\n",
        "\n",
        "$$\n",
        "P(B_0|W) = \\frac{P(W|B_0)P(B_0)}{P(W)}\n",
        "= \\frac{1\\cdot\\tfrac{1}{2}}{\\tfrac{3}{4}}\n",
        "= \\tfrac{2}{3}.\n",
        "$$\n",
        "\n",
        "$$\n",
        "P(C_0|W) = \\frac{P(W|C_0)P(C_0)}{P(W)}\n",
        "= \\frac{\\tfrac{1}{2}\\cdot\\tfrac{1}{2}}{\\tfrac{3}{4}}\n",
        "= \\tfrac{1}{3}.\n",
        "$$\n",
        "\n",
        "---\n",
        "\n",
        "$$\n",
        "\\textbf{Ймовірність, що залишилась біла:}\n",
        "$$\n",
        "\n",
        "- \\text{Якщо } B_0: \\text{ обидві білі, отже залишилась біла (ймовірність }1\\text{).} \\\\\n",
        "- \\text{Якщо } C_0: \\text{ спочатку (C,B). Якщо витягнули білу (ймовірність }\\tfrac{1}{2}\\text{), залишилась чорна.}\n",
        "\n",
        "$$\n",
        "\\Rightarrow\\ P(\\text{залишилась біла}|W)\n",
        "= P(B_0|W)\\cdot 1 + P(C_0|W)\\cdot 0\n",
        "= \\tfrac{2}{3}.\n",
        "$$\n",
        "\n",
        "---\n",
        "\n",
        "$$\n",
        "\\boxed{\\; P(\\text{залишилась біла}) = \\tfrac{2}{3} \\;}\n",
        "$$\n"
      ],
      "metadata": {
        "id": "nU_VxlCho2Bb"
      }
    },
    {
      "cell_type": "markdown",
      "source": [
        "## Завдання 7. Випадкове блукання\n",
        "Ціна акцій компанії в кожен момент часу може з рівною ймовірністю збільшитись на 2 або зменшитись на 1. В початковий момент часу $t=0$ ціна рівна 0. Визнач середню ціну акції через 3 одиниці часу ($t=3$).  \n",
        "а) Виріши аналітично.\n",
        "\n",
        "б) Напиши симуляцію данного процесу. Порахуй середнє значення та намалюй гістограму ціни для 10, 100, 1000 та 10000 симуляцій.\n",
        "\n",
        "---\n",
        "Розв'язання:"
      ],
      "metadata": {
        "id": "ACIVtHYWi9W1"
      }
    },
    {
      "cell_type": "code",
      "source": [
        "\n",
        "\n",
        "import numpy as np\n",
        "\n",
        "\n",
        "def stock_price_at_time(t: int) -> int:\n",
        "    \"\"\"Моделює ціну акції через t кроків\"\"\"\n",
        "    price = 0\n",
        "    for _ in range(t):\n",
        "        step = np.random.choice([2, -1])  # з рівною ймовірністю\n",
        "        price += step\n",
        "    return price\n",
        "\n",
        "def simulate_n_times(n: int, t: int) -> list:\n",
        "    \"\"\"Запускає n симуляцій і повертає ціни через t кроків\"\"\"\n",
        "    np.random.seed(42)\n",
        "    results = [stock_price_at_time(t) for _ in range(n)]\n",
        "    return results\n"
      ],
      "metadata": {
        "id": "A7j1cFe9i8lf"
      },
      "execution_count": 3,
      "outputs": []
    },
    {
      "cell_type": "code",
      "source": [
        "# симуляції і гістограми\n",
        "t = 3\n",
        "for n in [10, 100, 1000, 10000]:\n",
        "    results = simulate_n_times(n, t)\n",
        "    mean_val = np.mean(results)\n",
        "    print(f\"Simulations = {n}, mean = {mean_val:.4f}\")\n",
        "\n",
        "    plt.hist(results, bins=range(min(results), max(results) + 2),\n",
        "             edgecolor='black', alpha=0.7)\n",
        "    plt.title(f\"Histogram of stock price at t={t}, n={n}\")\n",
        "    plt.xlabel(\"Price\")\n",
        "    plt.ylabel(\"Frequency\")\n",
        "    plt.show()"
      ],
      "metadata": {
        "id": "ajrQ4SjoqQo7",
        "outputId": "62ba18bc-65d7-469f-916d-834f49a78fb0",
        "colab": {
          "base_uri": "https://localhost:8080/",
          "height": 1000
        }
      },
      "execution_count": 4,
      "outputs": [
        {
          "output_type": "stream",
          "name": "stdout",
          "text": [
            "Simulations = 10, mean = 1.2000\n"
          ]
        },
        {
          "output_type": "display_data",
          "data": {
            "text/plain": [
              "<Figure size 640x480 with 1 Axes>"
            ],
            "image/png": "[encoded data removed]"
          },
          "metadata": {}
        },
        {
          "output_type": "stream",
          "name": "stdout",
          "text": [
            "Simulations = 100, mean = 1.5300\n"
          ]
        },
        {
          "output_type": "display_data",
          "data": {
            "text/plain": [
              "<Figure size 640x480 with 1 Axes>"
            ],
            "image/png": "[encoded data removed]"
          },
          "metadata": {}
        },
        {
          "output_type": "stream",
          "name": "stdout",
          "text": [
            "Simulations = 1000, mean = 1.5510\n"
          ]
        },
        {
          "output_type": "display_data",
          "data": {
            "text/plain": [
              "<Figure size 640x480 with 1 Axes>"
            ],
            "image/png": "[encoded data removed]"
          },
          "metadata": {}
        },
        {
          "output_type": "stream",
          "name": "stdout",
          "text": [
            "Simulations = 10000, mean = 1.4949\n"
          ]
        },
        {
          "output_type": "display_data",
          "data": {
            "text/plain": [
              "<Figure size 640x480 with 1 Axes>"
            ],
            "image/png": "[encoded data removed]"
          },
          "metadata": {}
        }
      ]
    }
  ]
}