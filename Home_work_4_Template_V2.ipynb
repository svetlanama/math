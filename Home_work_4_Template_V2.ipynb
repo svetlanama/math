{
  "nbformat": 4,
  "nbformat_minor": 0,
  "metadata": {
    "colab": {
      "provenance": [],
      "include_colab_link": true
    },
    "kernelspec": {
      "name": "python3",
      "display_name": "Python 3"
    },
    "language_info": {
      "name": "python"
    }
  },
  "cells": [
    {
      "cell_type": "markdown",
      "metadata": {
        "id": "view-in-github",
        "colab_type": "text"
      },
      "source": [
        "<a href=\"https://colab.research.google.com/github/svetlanama/math/blob/main/Home_work_4_Template_V2.ipynb\" target=\"_parent\"><img src=\"https://colab.research.google.com/assets/colab-badge.svg\" alt=\"Open In Colab\"/></a>"
      ]
    },
    {
      "cell_type": "markdown",
      "source": [
        "Вам можуть знадобитись такі символи:\n",
        "\n",
        "\n",
        "Символ | Код\n",
        "--- | ---\n",
        "$\\wedge$ | \\\\$\\wedge\\\\$\n",
        "$\\vee$ | \\\\$\\vee\\\\$\n",
        "$\\neg$ | \\\\$\\neg\\\\$\n",
        "$\\rightarrow$ | \\\\$\\rightarrow\\\\$\n",
        "$\\oplus$ | \\\\$\\oplus\\\\$\n",
        "$\\equiv$ | \\\\$\\equiv\\\\$\n",
        "$\\Leftrightarrow$ | \\\\$\\Leftrightarrow\\\\$"
      ],
      "metadata": {
        "id": "xJ6EpMRR0Ko1"
      }
    },
    {
      "cell_type": "markdown",
      "source": [
        "## Завдання 1\n",
        "Запишіть наступні висловлювання у математичній формі та складіть для них таблиці істиності:"
      ],
      "metadata": {
        "id": "yKUL8_WRy1WO"
      }
    },
    {
      "cell_type": "markdown",
      "source": [
        "a) “Морті прийде на вечірку (A) тоді й тільки тоді, коли Джесіка прийде на вечірку(B), а Рік не прийде(C)”.\n",
        "\n",
        "A - \\\n",
        "B - \\\n",
        "C -\n",
        "\n",
        "$X = $\n",
        "\n",
        "$$\n",
        "\\begin{array} {|r|r|}\\hline\n",
        "A & B & C & X \\\\ \\hline\n",
        "1 & 1 & 1 & ? \\\\ \\hline\n",
        "0 & 1 & 1 & ? \\\\ \\hline\n",
        "1 & 0 & 1 & ? \\\\ \\hline\n",
        "0 & 0 & 1 & ? \\\\ \\hline\n",
        "1 & 1 & 0 & ? \\\\ \\hline\n",
        "0 & 1 & 0 & ? \\\\ \\hline\n",
        "1 & 0 & 0 & ? \\\\ \\hline\n",
        "0 & 0 & 0 & ? \\\\ \\hline\n",
        "\\end{array}\n",
        "$$"
      ],
      "metadata": {
        "id": "O0k_O_SOy2eP"
      }
    },
    {
      "cell_type": "markdown",
      "source": [
        "\\[\n",
        "\\begin{array}{|c|c|c|c|c|c|}\n",
        "\\hline\n",
        "A & B & C & \\neg C & B \\land \\neg C & X = A \\Leftrightarrow (B \\land \\neg C) \\\\\n",
        "\\hline\n",
        "1 & 1 & 1 & 0 & 0 & 0 \\\\\n",
        "0 & 1 & 1 & 0 & 0 & 1 \\\\\n",
        "1 & 0 & 1 & 0 & 0 & 0 \\\\\n",
        "0 & 0 & 1 & 0 & 0 & 1 \\\\\n",
        "1 & 1 & 0 & 1 & 1 & 1 \\\\\n",
        "0 & 1 & 0 & 1 & 1 & 0 \\\\\n",
        "1 & 0 & 0 & 1 & 0 & 0 \\\\\n",
        "0 & 0 & 0 & 1 & 0 & 1 \\\\\n",
        "\\hline\n",
        "\\end{array}\n",
        "\\]\n"
      ],
      "metadata": {
        "id": "PXa9jpqWtM0C"
      }
    },
    {
      "cell_type": "markdown",
      "source": [
        "b) “Якщо ми успішно виконаємо домашнє завдання з математичної логіки (A), то ми отримаємо заліковий бал (B) або візьмемо участь у науковому семінарі (C), водночас якщо ми візьмемо участь у науковому семінарі і отримаємо заліковий бал, то достроково складемо іспит з математичної логіки (D)”.\n",
        "\n",
        "A - \\\n",
        "B - \\\n",
        "C - \\\n",
        "D -\n",
        "\n",
        "$X = $\n",
        "\n",
        "$$\n",
        "\\begin{array} {|r|r|}\\hline\n",
        "A & B & C & D & X \\\\ \\hline\n",
        "1 & 1 & 1 & 1 & ? \\\\ \\hline\n",
        "0 & 1 & 1 & 1 & ? \\\\ \\hline\n",
        "1 & 0 & 1 & 1 & ? \\\\ \\hline\n",
        "0 & 0 & 1 & 1 & ? \\\\ \\hline\n",
        "1 & 1 & 0 & 1 & ? \\\\ \\hline\n",
        "0 & 1 & 0 & 1 & ? \\\\ \\hline\n",
        "1 & 0 & 0 & 1 & ? \\\\ \\hline\n",
        "0 & 0 & 0 & 1 & ? \\\\ \\hline\n",
        "1 & 1 & 1 & 0 & ? \\\\ \\hline\n",
        "0 & 1 & 1 & 0 & ? \\\\ \\hline\n",
        "1 & 0 & 1 & 0 & ? \\\\ \\hline\n",
        "0 & 0 & 1 & 0 & ? \\\\ \\hline\n",
        "1 & 1 & 0 & 0 & ? \\\\ \\hline\n",
        "0 & 1 & 0 & 0 & ? \\\\ \\hline\n",
        "1 & 0 & 0 & 0 & ? \\\\ \\hline  \n",
        "0 & 0 & 0 & 0 & ? \\\\ \\hline\n",
        "\\end{array}\n",
        "$$"
      ],
      "metadata": {
        "id": "YO3StJEgy2w5"
      }
    },
    {
      "cell_type": "markdown",
      "source": [
        "________________\n",
        "\n",
        "$$\n",
        "X = \\left( A \\rightarrow (B \\lor C) \\right) \\land \\left( (C \\land B)\\rightarrow D \\right)\n",
        "$$\n",
        "\n",
        "</br>\n",
        "\n",
        "\n",
        "\\begin{array} {|c|c|c|c|c|c|c|c|c|}\\hline\n",
        "A & B & C & D & B \\vee C & A \\rightarrow (B \\vee C) & C \\wedge B & (C \\wedge B) \\rightarrow D & X \\\\ \\hline\n",
        "1 & 1 & 1 & 1 & 1 & 1 & 1 & 1 & 1 \\\\ \\hline\n",
        "0 & 1 & 1 & 1 & 1 & 1 & 1 & 1 & 1 \\\\ \\hline\n",
        "1 & 0 & 1 & 1 & 1 & 1 & 0 & 1 & 1 \\\\ \\hline\n",
        "0 & 0 & 1 & 1 & 1 & 1 & 0 & 1 & 1 \\\\ \\hline\n",
        "1 & 1 & 0 & 1 & 1 & 1 & 0 & 1 & 1 \\\\ \\hline\n",
        "0 & 1 & 0 & 1 & 1 & 1 & 0 & 1 & 1 \\\\ \\hline\n",
        "1 & 0 & 0 & 1 & 0 & 0 & 0 & 1 & 0 \\\\ \\hline\n",
        "0 & 0 & 0 & 1 & 0 & 1 & 0 & 1 & 1 \\\\ \\hline\n",
        "1 & 1 & 1 & 0 & 1 & 1 & 1 & 0 & 0 \\\\ \\hline\n",
        "0 & 1 & 1 & 0 & 1 & 1 & 1 & 0 & 0 \\\\ \\hline\n",
        "1 & 0 & 1 & 0 & 1 & 1 & 0 & 1 & 1 \\\\ \\hline\n",
        "0 & 0 & 1 & 0 & 1 & 1 & 0 & 1 & 1 \\\\ \\hline\n",
        "1 & 1 & 0 & 0 & 1 & 1 & 0 & 1 & 1 \\\\ \\hline\n",
        "0 & 1 & 0 & 0 & 1 & 1 & 0 & 1 & 1 \\\\ \\hline\n",
        "1 & 0 & 0 & 0 & 0 & 0 & 0 & 1 & 0 \\\\ \\hline\n",
        "0 & 0 & 0 & 0 & 0 & 1 & 0 & 1 & 1 \\\\ \\hline\n",
        "\\end{array}\n",
        "\n",
        "\n",
        "\n"
      ],
      "metadata": {
        "id": "AN9GuV0Mt_u1"
      }
    },
    {
      "cell_type": "markdown",
      "source": [
        "## Завдання 2\n",
        "Із 40 програмістів 18 володіють мовою Python, 19 — мовою С++, 21 — мовою Java. Відомо, що 10 програмістів знають одночасно Python і С++, 7 — Python і Java, 8 — C++ і Java. Троє програмістів не володіють жодною із мов Python, С++, Java. Знайти кількість програмістів, які одночасно знають усі три мови програмування."
      ],
      "metadata": {
        "id": "7n3tjLJey3Ho"
      }
    },
    {
      "cell_type": "code",
      "source": [],
      "metadata": {
        "id": "HF774-8TxTGv"
      },
      "execution_count": null,
      "outputs": []
    },
    {
      "cell_type": "markdown",
      "source": [
        "A – множина програмістів, які знають Python.\n",
        "\n",
        "B – множина програмістів, які знають C++.\n",
        "\n",
        "C – множина програмістів, які знають Java."
      ],
      "metadata": {
        "id": "gnZlqIlev5Mg"
      }
    },
    {
      "cell_type": "markdown",
      "source": [
        "\n",
        "\n",
        "\n",
        "1. Кількість тих, хто знає лише одну мову:\n",
        "\n",
        "- Лише Python:  \n",
        "$$\n",
        "|A| - (6 + 3 + 4) = 18 - (6 + 3 + 4) = 18 - 13 = 5\n",
        "$$\n",
        "\n",
        "- Лише C++:  \n",
        "$$\n",
        "|B| - (6 + 4 + 4) = 19 - (6 + 4 + 4) = 19 - 14 = 5\n",
        "$$\n",
        "\n",
        "- Лише Java:  \n",
        "$$\n",
        "|C| - (3 + 4 + 4) = 21 - (3 + 4 + 4) = 21 - 11 = 10\n",
        "$$\n",
        "\n",
        "\n",
        "\n",
        "2. Кількість тих, хто знає рівно дві мови:\n",
        "\n",
        "- Python і C++, але не Java:  \n",
        "$$\n",
        "|A \\cap B| - x = 10 - 4 = 6\n",
        "$$\n",
        "\n",
        "- Python і Java, але не C++:  \n",
        "$$\n",
        "|A \\cap C| - x = 7 - 4 = 3\n",
        "$$\n",
        "\n",
        "- C++ і Java, але не Python:  \n",
        "$$\n",
        "|B \\cap C| - x = 8 - 4 = 4\n",
        "$$\n",
        "\n",
        "3. Кількість тих, хто знає всі три мови:  \n",
        "\n",
        "$$\n",
        "x = |A \\cap B \\cap C| = 4\n",
        "$$"
      ],
      "metadata": {
        "id": "n7o0ui9evPrv"
      }
    },
    {
      "cell_type": "code",
      "source": [
        "ANSWER"
      ],
      "metadata": {
        "id": "kwjshhO5vZLs"
      },
      "execution_count": null,
      "outputs": []
    },
    {
      "cell_type": "markdown",
      "source": [
        "Кількість тих, хто знає всі три мови:  \n",
        "\n",
        "$$\n",
        "x = |A \\cap B \\cap C| = 4\n",
        "$$"
      ],
      "metadata": {
        "id": "qIjkqprFwhxh"
      }
    },
    {
      "cell_type": "code",
      "source": [
        "from matplotlib_venn import venn3\n",
        "import matplotlib.pyplot as plt\n",
        "\n",
        "# Вхідні дані\n",
        "total_programmers = 40\n",
        "python = 18\n",
        "cpp = 19\n",
        "java = 21\n",
        "python_cpp = 10\n",
        "python_java = 7\n",
        "cpp_java = 8\n",
        "none = 3\n",
        "\n",
        "# Скільки знають хоча б одну мову\n",
        "at_least_one = total_programmers - none\n",
        "\n",
        "# Inclusion-Exclusion формула:\n",
        "# at_least_one = P + C + J - (P∩C) - (P∩J) - (C∩J) + (P∩C∩J)\n",
        "all_three = at_least_one - (python + cpp + java) + (python_cpp + python_java + cpp_java)\n",
        "\n",
        "print(f\"Кількість програмістів, які знають усі три мови: {all_three}\")\n",
        "\n",
        "# Обчислюємо інші області для діаграми Венна\n",
        "only_python = python - python_cpp - python_java + all_three\n",
        "only_cpp = cpp - python_cpp - cpp_java + all_three\n",
        "only_java = java - python_java - cpp_java + all_three\n",
        "only_python_cpp = python_cpp - all_three\n",
        "only_python_java = python_java - all_three\n",
        "only_cpp_java = cpp_java - all_three\n",
        "\n",
        "print(\"Розподіл по групах:\")\n",
        "print(f\"Тільки Python: {only_python}\")\n",
        "print(f\"Тільки C++: {only_cpp}\")\n",
        "print(f\"Тільки Java: {only_java}\")\n",
        "print(f\"Тільки Python і C++: {only_python_cpp}\")\n",
        "print(f\"Тільки Python і Java: {only_python_java}\")\n",
        "print(f\"Тільки C++ і Java: {only_cpp_java}\")\n",
        "print(f\"Усі три мови: {all_three}\")\n",
        "\n",
        "# Будуємо діаграму Венна\n",
        "venn3(\n",
        "    subsets=(\n",
        "        only_python,       # тільки Python\n",
        "        only_cpp,          # тільки C++\n",
        "        only_python_cpp,   # Python і C++\n",
        "        only_java,         # тільки Java\n",
        "        only_python_java,  # Python і Java\n",
        "        only_cpp_java,     # C++ і Java\n",
        "        all_three          # усі три\n",
        "    ),\n",
        "    set_labels=('Python', 'C++', 'Java')\n",
        ")\n",
        "\n",
        "plt.title(\"Діаграма Венна знання мов програмування\")\n",
        "plt.show()\n"
      ],
      "metadata": {
        "id": "qLi2u6JUxUFj",
        "outputId": "51142cf9-1d98-463f-a35c-99386c394d0f",
        "colab": {
          "base_uri": "https://localhost:8080/",
          "height": 592
        }
      },
      "execution_count": 1,
      "outputs": [
        {
          "output_type": "stream",
          "name": "stdout",
          "text": [
            "Кількість програмістів, які знають усі три мови: 4\n",
            "Розподіл по групах:\n",
            "Тільки Python: 5\n",
            "Тільки C++: 5\n",
            "Тільки Java: 10\n",
            "Тільки Python і C++: 6\n",
            "Тільки Python і Java: 3\n",
            "Тільки C++ і Java: 4\n",
            "Усі три мови: 4\n"
          ]
        },
        {
          "output_type": "display_data",
          "data": {
            "text/plain": [
              "<Figure size 640x480 with 1 Axes>"
            ],
            "image/png": "[encoded data removed]"
          },
          "metadata": {}
        }
      ]
    }
  ]
}