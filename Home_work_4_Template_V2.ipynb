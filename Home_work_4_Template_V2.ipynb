{
  "nbformat": 4,
  "nbformat_minor": 0,
  "metadata": {
    "colab": {
      "provenance": [],
      "include_colab_link": true
    },
    "kernelspec": {
      "name": "python3",
      "display_name": "Python 3"
    },
    "language_info": {
      "name": "python"
    }
  },
  "cells": [
    {
      "cell_type": "markdown",
      "metadata": {
        "id": "view-in-github",
        "colab_type": "text"
      },
      "source": [
        "<a href=\"https://colab.research.google.com/github/svetlanama/math/blob/main/Home_work_4_Template_V2.ipynb\" target=\"_parent\"><img src=\"https://colab.research.google.com/assets/colab-badge.svg\" alt=\"Open In Colab\"/></a>"
      ]
    },
    {
      "cell_type": "markdown",
      "source": [
        "Вам можуть знадобитись такі символи:\n",
        "\n",
        "\n",
        "Символ | Код\n",
        "--- | ---\n",
        "$\\wedge$ | \\\\$\\wedge\\\\$\n",
        "$\\vee$ | \\\\$\\vee\\\\$\n",
        "$\\neg$ | \\\\$\\neg\\\\$\n",
        "$\\rightarrow$ | \\\\$\\rightarrow\\\\$\n",
        "$\\oplus$ | \\\\$\\oplus\\\\$\n",
        "$\\equiv$ | \\\\$\\equiv\\\\$\n",
        "$\\Leftrightarrow$ | \\\\$\\Leftrightarrow\\\\$"
      ],
      "metadata": {
        "id": "xJ6EpMRR0Ko1"
      }
    },
    {
      "cell_type": "markdown",
      "source": [
        "## Завдання 1\n",
        "Запишіть наступні висловлювання у математичній формі та складіть для них таблиці істиності:"
      ],
      "metadata": {
        "id": "yKUL8_WRy1WO"
      }
    },
    {
      "cell_type": "markdown",
      "source": [
        "a) “Морті прийде на вечірку (A) тоді й тільки тоді, коли Джесіка прийде на вечірку(B), а Рік не прийде(C)”.\n",
        "\n",
        "A - \\\n",
        "B - \\\n",
        "C -\n",
        "\n",
        "$X = $\n",
        "\n",
        "$$\n",
        "\\begin{array} {|r|r|}\\hline\n",
        "A & B & C & X \\\\ \\hline\n",
        "1 & 1 & 1 & ? \\\\ \\hline\n",
        "0 & 1 & 1 & ? \\\\ \\hline\n",
        "1 & 0 & 1 & ? \\\\ \\hline\n",
        "0 & 0 & 1 & ? \\\\ \\hline\n",
        "1 & 1 & 0 & ? \\\\ \\hline\n",
        "0 & 1 & 0 & ? \\\\ \\hline\n",
        "1 & 0 & 0 & ? \\\\ \\hline\n",
        "0 & 0 & 0 & ? \\\\ \\hline\n",
        "\\end{array}\n",
        "$$"
      ],
      "metadata": {
        "id": "O0k_O_SOy2eP"
      }
    },
    {
      "cell_type": "markdown",
      "source": [
        "\\[\n",
        "\\begin{array}{|c|c|c|c|c|c|}\n",
        "\\hline\n",
        "A & B & C & \\neg C & B \\land \\neg C & X = A \\Leftrightarrow (B \\land \\neg C) \\\\\n",
        "\\hline\n",
        "1 & 1 & 1 & 0 & 0 & 0 \\\\\n",
        "0 & 1 & 1 & 0 & 0 & 1 \\\\\n",
        "1 & 0 & 1 & 0 & 0 & 0 \\\\\n",
        "0 & 0 & 1 & 0 & 0 & 1 \\\\\n",
        "1 & 1 & 0 & 1 & 1 & 1 \\\\\n",
        "0 & 1 & 0 & 1 & 1 & 0 \\\\\n",
        "1 & 0 & 0 & 1 & 0 & 0 \\\\\n",
        "0 & 0 & 0 & 1 & 0 & 1 \\\\\n",
        "\\hline\n",
        "\\end{array}\n",
        "\\]\n"
      ],
      "metadata": {
        "id": "PXa9jpqWtM0C"
      }
    },
    {
      "cell_type": "markdown",
      "source": [
        "b) “Якщо ми успішно виконаємо домашнє завдання з математичної логіки (A), то ми отримаємо заліковий бал (B) або візьмемо участь у науковому семінарі (C), водночас якщо ми візьмемо участь у науковому семінарі і отримаємо заліковий бал, то достроково складемо іспит з математичної логіки (D)”.\n",
        "\n",
        "A - \\\n",
        "B - \\\n",
        "C - \\\n",
        "D -\n",
        "\n",
        "$X = $\n",
        "\n",
        "$$\n",
        "\\begin{array} {|r|r|}\\hline\n",
        "A & B & C & D & X \\\\ \\hline\n",
        "1 & 1 & 1 & 1 & ? \\\\ \\hline\n",
        "0 & 1 & 1 & 1 & ? \\\\ \\hline\n",
        "1 & 0 & 1 & 1 & ? \\\\ \\hline\n",
        "0 & 0 & 1 & 1 & ? \\\\ \\hline\n",
        "1 & 1 & 0 & 1 & ? \\\\ \\hline\n",
        "0 & 1 & 0 & 1 & ? \\\\ \\hline\n",
        "1 & 0 & 0 & 1 & ? \\\\ \\hline\n",
        "0 & 0 & 0 & 1 & ? \\\\ \\hline\n",
        "1 & 1 & 1 & 0 & ? \\\\ \\hline\n",
        "0 & 1 & 1 & 0 & ? \\\\ \\hline\n",
        "1 & 0 & 1 & 0 & ? \\\\ \\hline\n",
        "0 & 0 & 1 & 0 & ? \\\\ \\hline\n",
        "1 & 1 & 0 & 0 & ? \\\\ \\hline\n",
        "0 & 1 & 0 & 0 & ? \\\\ \\hline\n",
        "1 & 0 & 0 & 0 & ? \\\\ \\hline  \n",
        "0 & 0 & 0 & 0 & ? \\\\ \\hline\n",
        "\\end{array}\n",
        "$$"
      ],
      "metadata": {
        "id": "YO3StJEgy2w5"
      }
    },
    {
      "cell_type": "markdown",
      "source": [
        "________________\n",
        "\n",
        "$$\n",
        "X = \\left( A \\rightarrow (B \\lor C) \\right) \\land \\left( (C \\land B)\\rightarrow D \\right)\n",
        "$$\n",
        "\n",
        "</br>\n",
        "\n",
        "\n",
        "\\begin{array} {|c|c|c|c|c|c|c|c|c|}\\hline\n",
        "A & B & C & D & B \\vee C & A \\rightarrow (B \\vee C) & C \\wedge B & (C \\wedge B) \\rightarrow D & X \\\\ \\hline\n",
        "1 & 1 & 1 & 1 & 1 & 1 & 1 & 1 & 1 \\\\ \\hline\n",
        "0 & 1 & 1 & 1 & 1 & 1 & 1 & 1 & 1 \\\\ \\hline\n",
        "1 & 0 & 1 & 1 & 1 & 1 & 0 & 1 & 1 \\\\ \\hline\n",
        "0 & 0 & 1 & 1 & 1 & 1 & 0 & 1 & 1 \\\\ \\hline\n",
        "1 & 1 & 0 & 1 & 1 & 1 & 0 & 1 & 1 \\\\ \\hline\n",
        "0 & 1 & 0 & 1 & 1 & 1 & 0 & 1 & 1 \\\\ \\hline\n",
        "1 & 0 & 0 & 1 & 0 & 0 & 0 & 1 & 0 \\\\ \\hline\n",
        "0 & 0 & 0 & 1 & 0 & 1 & 0 & 1 & 1 \\\\ \\hline\n",
        "1 & 1 & 1 & 0 & 1 & 1 & 1 & 0 & 0 \\\\ \\hline\n",
        "0 & 1 & 1 & 0 & 1 & 1 & 1 & 0 & 0 \\\\ \\hline\n",
        "1 & 0 & 1 & 0 & 1 & 1 & 0 & 1 & 1 \\\\ \\hline\n",
        "0 & 0 & 1 & 0 & 1 & 1 & 0 & 1 & 1 \\\\ \\hline\n",
        "1 & 1 & 0 & 0 & 1 & 1 & 0 & 1 & 1 \\\\ \\hline\n",
        "0 & 1 & 0 & 0 & 1 & 1 & 0 & 1 & 1 \\\\ \\hline\n",
        "1 & 0 & 0 & 0 & 0 & 0 & 0 & 1 & 0 \\\\ \\hline\n",
        "0 & 0 & 0 & 0 & 0 & 1 & 0 & 1 & 1 \\\\ \\hline\n",
        "\\end{array}\n",
        "\n",
        "\n",
        "\n"
      ],
      "metadata": {
        "id": "AN9GuV0Mt_u1"
      }
    },
    {
      "cell_type": "markdown",
      "source": [
        "## Завдання 2\n",
        "Із 40 програмістів 18 володіють мовою Python, 19 — мовою С++, 21 — мовою Java. Відомо, що 10 програмістів знають одночасно Python і С++, 7 — Python і Java, 8 — C++ і Java. Троє програмістів не володіють жодною із мов Python, С++, Java. Знайти кількість програмістів, які одночасно знають усі три мови програмування."
      ],
      "metadata": {
        "id": "7n3tjLJey3Ho"
      }
    },
    {
      "cell_type": "markdown",
      "source": [],
      "metadata": {
        "id": "NE6dRJKmy7za"
      }
    }
  ]
}