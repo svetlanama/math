{
  "nbformat": 4,
  "nbformat_minor": 0,
  "metadata": {
    "colab": {
      "provenance": [],
      "authorship_tag": "ABX9TyMym58wADHgevhjUVvMrt0W",
      "include_colab_link": true
    },
    "kernelspec": {
      "name": "python3",
      "display_name": "Python 3"
    },
    "language_info": {
      "name": "python"
    }
  },
  "cells": [
    {
      "cell_type": "markdown",
      "metadata": {
        "id": "view-in-github",
        "colab_type": "text"
      },
      "source": [
        "<a href=\"https://colab.research.google.com/github/svetlanama/math/blob/main/%D0%94%D0%9710_%D0%9C%D0%BE%D1%96%D1%81%D0%B5%D1%94%D0%BD%D0%BA%D0%BE_%D0%A1%D0%B2%D1%96%D1%82%D0%BB%D0%B0%D0%BD%D0%B0_%D0%9E%D0%BB%D0%B5%D0%BA%D1%81%D0%B0%D0%BD%D0%B4%D1%80%D1%96%D0%B2%D0%BD%D0%B0.ipynb\" target=\"_parent\"><img src=\"https://colab.research.google.com/assets/colab-badge.svg\" alt=\"Open In Colab\"/></a>"
      ]
    },
    {
      "cell_type": "code",
      "execution_count": 1,
      "metadata": {
        "colab": {
          "base_uri": "https://localhost:8080/",
          "height": 106
        },
        "id": "ydWbJ4ZUXjaM",
        "outputId": "b7c361c1-612f-4400-adb1-1a9588aa2a99"
      },
      "outputs": [
        {
          "output_type": "error",
          "ename": "SyntaxError",
          "evalue": "incomplete input (ipython-input-2136941612.py, line 91)",
          "traceback": [
            "\u001b[0;36m  File \u001b[0;32m\"/tmp/ipython-input-2136941612.py\"\u001b[0;36m, line \u001b[0;32m91\u001b[0m\n\u001b[0;31m    numeric_cols = df.select_dtypes(include=[np]()\u001b[0m\n\u001b[0m                                                  ^\u001b[0m\n\u001b[0;31mSyntaxError\u001b[0m\u001b[0;31m:\u001b[0m incomplete input\n"
          ]
        }
      ],
      "source": [
        "# =========================\n",
        "# PART 1: ANALYSIS & PREP\n",
        "# Dataset: Kaggle \"House Rent Prediction Dataset\"\n",
        "# Link: https://www.kaggle.com/datasets/iamsouravbanerjee/house-rent-prediction-dataset/data\n",
        "# =========================\n",
        "\n",
        "# ---------- (1) Kaggle download (Colab-friendly) ----------\n",
        "import os, json, zipfile, glob, shutil\n",
        "from pathlib import Path\n",
        "\n",
        "IN_COLAB = \"COLAB_GPU\" in os.environ or \"COLAB_BACKEND_VERSION\" in os.environ\n",
        "\n",
        "if IN_COLAB:\n",
        "    # 1) Встановити kaggle-cli\n",
        "    !pip -q install kaggle >/dev/null\n",
        "\n",
        "    # 2) Створити папку .kaggle (якщо немає)\n",
        "    Path.home().joinpath(\".kaggle\").mkdir(exist_ok=True)\n",
        "\n",
        "    # 3) Завантажити kaggle.json (через GUI: Files → Upload)\n",
        "    # Якщо вже завантажили в /content, перенесемо:\n",
        "    if Path(\"/content/kaggle.json\").exists():\n",
        "        shutil.move(\"/content/kaggle.json\", str(Path.home().joinpath(\".kaggle/kaggle.json\")))\n",
        "\n",
        "    # 4) Права доступу\n",
        "    kaggle_json = Path.home().joinpath(\".kaggle/kaggle.json\")\n",
        "    if kaggle_json.exists():\n",
        "        kaggle_json.chmod(0o600)\n",
        "    else:\n",
        "        print(\"⚠️ Завантажте спершу kaggle.json у /content або покладіть у ~/.kaggle/\")\n",
        "\n",
        "    # 5) Завантаження датасету\n",
        "    !kaggle datasets download -d iamsouravbanerjee/house-rent-prediction-dataset -p /content/data -o\n",
        "    # Розпакування\n",
        "    Path(\"/content/data\").mkdir(exist_ok=True, parents=True)\n",
        "    for zf in glob.glob(\"/content/data/*.zip\"):\n",
        "        with zipfile.ZipFile(zf, \"r\") as z:\n",
        "            z.extractall(\"/content/data\")\n",
        "else:\n",
        "    print(\"ℹ️ Не Colab середовище. Переконайтесь, що датасет завантажений локально або встановіть kaggle-cli вручну.\")\n",
        "\n",
        "# ---------- (2) Load data ----------\n",
        "import pandas as pd\n",
        "import numpy as np\n",
        "\n",
        "# Спробуємо знайти CSV, якщо у Colab зкачали — він лежить в /content/data\n",
        "possible_paths = [\n",
        "    \"/content/data/House_Rent_Dataset.csv\",\n",
        "    \"House_Rent_Dataset.csv\",\n",
        "]\n",
        "\n",
        "csv_path = None\n",
        "for p in possible_paths:\n",
        "    if Path(p).exists():\n",
        "        csv_path = p\n",
        "        break\n",
        "\n",
        "if csv_path is None:\n",
        "    # fallback: спроба знайти будь-який CSV у /content/data\n",
        "    candidates = glob.glob(\"/content/data/*.csv\")\n",
        "    if candidates:\n",
        "        csv_path = candidates[0]\n",
        "\n",
        "if csv_path is None:\n",
        "    raise FileNotFoundError(\"Не знайдено CSV. Переконайтесь, що датасет завантажено. Очікував House_Rent_Dataset.csv\")\n",
        "\n",
        "df = pd.read_csv(csv_path)\n",
        "\n",
        "print(\"✅ Завантажено:\", csv_path)\n",
        "print(\"Форма:\", df.shape)\n",
        "display(df.head(3))\n",
        "display(df.tail(3))\n",
        "\n",
        "# ---------- (3) Базова інформація: типи, описова статистика ----------\n",
        "print(\"\\n=== INFO ===\")\n",
        "print(df.info())\n",
        "\n",
        "print(\"\\n=== Описова статистика (числові) ===\")\n",
        "display(df.describe().T)\n",
        "\n",
        "print(\"\\n=== Описова статистика (всі стовпці) ===\")\n",
        "display(df.describe(include=\"all\").T)\n",
        "\n",
        "# ---------- (4) Перевірка пропусків ----------\n",
        "print(\"\\n=== Пропущені значення (кількість та частка) ===\")\n",
        "na_counts = df.isna().sum().sort_values(ascending=False)\n",
        "na_share = (df.isna().mean()*100).sort_values(ascending=False)\n",
        "display(pd.DataFrame({\"na_count\": na_counts, \"na_%\": na_share}).query(\"na_count > 0\"))\n",
        "\n",
        "# ---------- (5) Аналіз типів ознак ----------\n",
        "numeric_cols = df.select_dtypes(include=[np]()\n"
      ]
    }
  ]
}