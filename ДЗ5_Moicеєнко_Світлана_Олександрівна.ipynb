{
  "nbformat": 4,
  "nbformat_minor": 0,
  "metadata": {
    "colab": {
      "provenance": [],
      "authorship_tag": "ABX9TyN7WeDNX5eanwW+TgBrD6ua",
      "include_colab_link": true
    },
    "kernelspec": {
      "name": "python3",
      "display_name": "Python 3"
    },
    "language_info": {
      "name": "python"
    }
  },
  "cells": [
    {
      "cell_type": "markdown",
      "metadata": {
        "id": "view-in-github",
        "colab_type": "text"
      },
      "source": [
        "<a href=\"https://colab.research.google.com/github/svetlanama/math/blob/main/%D0%94%D0%975_Moic%D0%B5%D1%94%D0%BD%D0%BA%D0%BE_%D0%A1%D0%B2%D1%96%D1%82%D0%BB%D0%B0%D0%BD%D0%B0_%D0%9E%D0%BB%D0%B5%D0%BA%D1%81%D0%B0%D0%BD%D0%B4%D1%80%D1%96%D0%B2%D0%BD%D0%B0.ipynb\" target=\"_parent\"><img src=\"https://colab.research.google.com/assets/colab-badge.svg\" alt=\"Open In Colab\"/></a>"
      ]
    },
    {
      "cell_type": "markdown",
      "source": [
        "Завдання 1\n",
        "Виконай диференціювання функції та знайди значення похідних у точках\n",
        "x = 1 і x=−1/2. Розв’яжи програмно та аналітично."
      ],
      "metadata": {
        "id": "XbyG1ajNOuYg"
      }
    },
    {
      "cell_type": "markdown",
      "source": [
        "$$\n",
        "\\textbf{1) } f_1(x) = \\frac{x^3}{3} + \\frac{x^2}{2} - 2x\n",
        "$$\n",
        "\n",
        "\n",
        "$$\n",
        "\\text{Використаємо правила:} \\quad\n",
        "\\begin{cases}\n",
        "(a\\,u(x) + b\\,v(x))' = a\\,u'(x) + b\\,v'(x), & \\text{(правило лінійності похідної)}, \\\\[6pt]\n",
        "(x^n)' = n\\,x^{n-1}, & \\text{(правило похідної степеневої функції)}, \\\\[6pt]\n",
        "(c\\,x)' = c, & \\text{(похідна добутку константи на $x$)}.\n",
        "\\end{cases}\n",
        "$$\n",
        "\n",
        "\n",
        "\n",
        "$$\n",
        "\\text{Крок 1. Розіб'ємо похідну на доданки:}\n",
        "$$\n",
        "\n",
        "$$\n",
        "f_1'(x) = \\left(\\frac{1}{3}x^3\\right)' + \\left(\\frac{1}{2}x^2\\right)' - (2x)'.\n",
        "$$\n",
        "\n",
        "$$\n",
        "\\text{Крок 2. Обчислимо кожен доданок:}\n",
        "$$\n",
        "\n",
        "$$\n",
        "\\left(\\frac{1}{3}x^3\\right)' = \\frac{1}{3} \\cdot 3x^2 = x^2,\n",
        "$$\n",
        "\n",
        "$$\n",
        "\\left(\\frac{1}{2}x^2\\right)' = \\frac{1}{2} \\cdot 2x = x,\n",
        "$$\n",
        "\n",
        "$$\n",
        "(2x)' = 2 \\quad \\Rightarrow \\quad -(2x)' = -2.\n",
        "$$\n",
        "\n",
        "$$\n",
        "\\text{Крок 3. Складаємо результати:}\n",
        "$$\n",
        "\n",
        "$$\n",
        "f_1'(x) = x^2 + x - 2.\n",
        "$$\n",
        "\n",
        "$$\n",
        "\\text{Крок 4. Обчислюємо значення у заданих точках:}\n",
        "$$\n",
        "\n",
        "$$\n",
        "f_1'(1) = 1^2 + 1 - 2 = 0,\n",
        "$$\n",
        "\n",
        "$$\n",
        "f_1'\\left(-\\frac12\\right) = \\left(-\\frac12\\right)^2 - \\frac12 - 2\n",
        "= \\frac14 - \\frac12 - 2\n",
        "= -\\frac14 - 2 = -\\frac94.\n",
        "$$\n",
        "\n",
        "$$\n",
        "\\boxed{\n",
        "f_1'(x) = x^2 + x - 2, \\quad\n",
        "f_1'(1) = 0, \\quad\n",
        "f_1'\\left(-\\frac12\\right) = -\\frac94\n",
        "}\n",
        "$$\n"
      ],
      "metadata": {
        "id": "PFPd8tZWOQm_"
      }
    },
    {
      "cell_type": "markdown",
      "source": [
        "$$\n",
        "\\textbf{2) } f_2(x) = \\sqrt{x^2 + 1} = (x^2 + 1)^{\\frac12}\n",
        "$$\n",
        "\n",
        "$$\n",
        "\\text{Використаємо правила:} \\quad\n",
        "\\begin{cases}\n",
        "(u^n)' = n\\,u^{n-1} \\cdot u'(x), & \\text{(правило похідної складеної степеневої функції)}, \\\\[6pt]\n",
        "(x^n)' = n\\,x^{n-1}, & \\text{(правило степеневої функції)}, \\\\[6pt]\n",
        "(c)' = 0, & \\text{(похідна від константи)}.\n",
        "\\end{cases}\n",
        "$$\n",
        "\n",
        "$$\n",
        "\\text{Крок 1. Перепишемо підкореневий вираз у степеневій формі:}\n",
        "$$\n",
        "\n",
        "$$\n",
        "f_2(x) = (x^2 + 1)^{\\frac12}.\n",
        "$$\n",
        "\n",
        "$$\n",
        "\\text{Крок 2. Застосуємо правило ланцюгової похідної:}\n",
        "$$\n",
        "\n",
        "$$\n",
        "f_2'(x) = \\frac12 (x^2 + 1)^{-\\frac12} \\cdot (2x).\n",
        "$$\n",
        "\n",
        "$$\n",
        "\\text{Крок 3. Спрощуємо:}\n",
        "$$\n",
        "\n",
        "$$\n",
        "f_2'(x) = \\frac{2x}{2\\sqrt{x^2 + 1}} = \\frac{x}{\\sqrt{x^2 + 1}}.\n",
        "$$\n",
        "\n",
        "$$\n",
        "\\text{Крок 4. Обчислюємо значення у заданих точках:}\n",
        "$$\n",
        "\n",
        "$$\n",
        "f_2'(1) = \\frac{1}{\\sqrt{1 + 1}} = \\frac{1}{\\sqrt{2}},\n",
        "$$\n",
        "\n",
        "$$\n",
        "f_2'\\left(-\\frac12\\right) = \\frac{-\\frac12}{\\sqrt{\\frac14 + 1}}\n",
        "= \\frac{-\\frac12}{\\sqrt{\\frac54}}\n",
        "= -\\frac12 \\cdot \\frac{1}{\\frac{\\sqrt{5}}{2}}\n",
        "= -\\frac{1}{\\sqrt{5}}.\n",
        "$$\n",
        "\n",
        "$$\n",
        "\\boxed{\n",
        "f_2'(x) = \\frac{x}{\\sqrt{x^2 + 1}}, \\quad\n",
        "f_2'(1) = \\frac{1}{\\sqrt{2}}, \\quad\n",
        "f_2'\\left(-\\frac12\\right) = -\\frac{1}{\\sqrt{5}}\n",
        "}\n",
        "$$\n"
      ],
      "metadata": {
        "id": "p4qzjVYQQsx5"
      }
    }
  ]
}